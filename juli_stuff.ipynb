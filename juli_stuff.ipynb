{
  "nbformat": 4,
  "nbformat_minor": 0,
  "metadata": {
    "colab": {
      "provenance": []
    },
    "kernelspec": {
      "name": "python3",
      "display_name": "Python 3"
    },
    "language_info": {
      "name": "python"
    }
  },
  "cells": [
    {
      "cell_type": "markdown",
      "source": [
        "# **OtterBots Group Project**\n",
        "\n",
        "Data analysis on... blurb"
      ],
      "metadata": {
        "id": "-KfqGZTsVPoY"
      }
    },
    {
      "cell_type": "markdown",
      "source": [
        "\n",
        "\n",
        "---\n",
        "\n",
        "\n",
        "## **Import Libraries**"
      ],
      "metadata": {
        "id": "1HRtwB3TL8pD"
      }
    },
    {
      "cell_type": "code",
      "execution_count": null,
      "metadata": {
        "id": "iRy4jU5UFFAj"
      },
      "outputs": [],
      "source": [
        "# import packages\n",
        "import numpy as np\n",
        "import pandas as pd"
      ]
    },
    {
      "cell_type": "markdown",
      "source": [
        "\n",
        "\n",
        "---\n",
        "\n",
        "\n",
        "## **Pre-Processing Data**\n",
        "\n",
        "\n",
        "\n",
        "*   Create dataframes from the csv files\n",
        "*   Fix any issues with the dataframes for use in this project\n",
        "\n",
        "Source of the CSV files:\n",
        "\n",
        "[Kaggle - Canine Intelligence and Size](https://www.kaggle.com/datasets/thedevastator/canine-intelligence-and-size?select=AKC+Breed+Info.csv)\n",
        "\n",
        "[Github - akcdata by tmfilho](https://github.com/tmfilho/akcdata)\n"
      ],
      "metadata": {
        "id": "vuXmSl1LMHpQ"
      }
    },
    {
      "cell_type": "code",
      "source": [
        "# URLs\n",
        "breed_info_url=\"https://raw.githubusercontent.com/OtterBots/DoggieData/main/AKC_Breed_Info.csv\"\n",
        "intel_url = \"https://raw.githubusercontent.com/OtterBots/DoggieData/main/dog_intelligence.csv\"\n",
        "groups_url = \"https://raw.githubusercontent.com/OtterBots/DoggieData/main/akc-data-latest.csv\""
      ],
      "metadata": {
        "id": "UDsLAeFyGHbw"
      },
      "execution_count": null,
      "outputs": []
    },
    {
      "cell_type": "code",
      "source": [
        "# create dataframes\n",
        "df1 = pd.read_csv(breed_info_url, index_col=0)\n",
        "df2 = pd.read_csv(intel_url, index_col=0)\n",
        "df3 = pd.read_csv(groups_url)"
      ],
      "metadata": {
        "id": "41rX0IHYJjxs"
      },
      "execution_count": null,
      "outputs": []
    },
    {
      "cell_type": "code",
      "source": [
        "# fix column name for df3 keep only the columns we will use\n",
        "df3.rename(columns={'Unnamed: 0': 'Breed'}, inplace=True)\n",
        "df3 = df3[['Breed', 'group']]"
      ],
      "metadata": {
        "id": "Sgubv8BJJsno"
      },
      "execution_count": null,
      "outputs": []
    },
    {
      "cell_type": "markdown",
      "source": [
        "*   Rename entries where a dog breed has many different spellings across the dataframes"
      ],
      "metadata": {
        "id": "MOTy3q-GWvH8"
      }
    },
    {
      "cell_type": "code",
      "source": [
        "# Fix different spellings of the same breed to increase useable entries\n",
        "\n",
        "# Mismatched spelling of breeds that are affected by merger of df1 and df2 = dd\n",
        "df1['Breed'] = df1['Breed'].str.replace('Airdale Terrier', 'Airedale Terrier')\n",
        "df1['Breed'] = df1['Breed'].str.replace('Cocker Spaniel-American', 'Cocker Spaniel')\n",
        "df1['Breed'] = df1['Breed'].str.replace('Cocker Spaniel-English', 'English Cocker Spaniel')\n",
        "df1['Breed'] = df1['Breed'].str.replace('Collie \\(Rough\\) & \\(Smooth\\)', 'Collie')\n",
        "df1['Breed'] = df1['Breed'].str.replace('Old English Sheepdog \\(Bobtail\\)', 'Old English Sheepdog')\n",
        "df1['Breed'] = df1['Breed'].str.replace('Shetland Sheepdog \\(Sheltie\\)', 'Shetland Sheepdog')\n",
        "\n",
        "df2['Breed'] = df2['Breed'].str.replace('Chinese Shar Pei', 'Chinese Shar-Pei')\n",
        "df2['Breed'] = df2['Breed'].str.replace('Curly Coated Retriever', 'Curly-Coated Retriever')\n",
        "df2['Breed'] = df2['Breed'].str.replace('Soft-coated Wheaten Terrier', 'Soft Coated Wheaten Terrier')\n",
        "\n",
        "# Breeds affected by merger of dd and df3 = dd\n",
        "df1['Breed'] = df1['Breed'].str.replace('Chinese Shar Pei', 'Chinese Shar-Pei')\n",
        "df1['Breed'] = df1['Breed'].str.replace('Curly Coated Retriever', 'Curly-Coated Retriever')\n",
        "df1['Breed'] = df1['Breed'].str.replace('Flat Coated Retriever', 'Flat-Coated Retriever')\n",
        "df1['Breed'] = df1['Breed'].str.replace('Otter Hound', 'Otterhound')\n",
        "df1['Breed'] = df1['Breed'].str.replace('Soft-Coated Wheaten Terrier', 'Soft Coated Wheaten Terrier')\n",
        "\n",
        "# Breeds in that don't make an impact since they are not in df2\n",
        "df1['Breed'] = df1['Breed'].str.replace('Anatolin Sheepdog', 'Anatolian Shepherd Dog')"
      ],
      "metadata": {
        "id": "4-WpggqAJ6Ml"
      },
      "execution_count": null,
      "outputs": []
    },
    {
      "cell_type": "markdown",
      "source": [
        "*   Merge dataframe on 'Breed' column"
      ],
      "metadata": {
        "id": "7wIa_W9cWX8p"
      }
    },
    {
      "cell_type": "code",
      "source": [
        "dd = pd.merge(df1,df2, on='Breed')\n",
        "dd = pd.merge(dd, df3, on='Breed')"
      ],
      "metadata": {
        "id": "FpSB5QQYKEMB"
      },
      "execution_count": null,
      "outputs": []
    },
    {
      "cell_type": "markdown",
      "source": [
        "\n",
        "\n",
        "*   Replace all 'na', 'not found' to NaN\n",
        "\n"
      ],
      "metadata": {
        "id": "eWOMfnk3WypI"
      }
    },
    {
      "cell_type": "code",
      "source": [
        "dd.replace({'na': 'not found'}, inplace=True)\n",
        "dd.replace({'not found': np.nan}, inplace=True)"
      ],
      "metadata": {
        "id": "45LZ88TCMp9X"
      },
      "execution_count": null,
      "outputs": []
    },
    {
      "cell_type": "markdown",
      "source": [
        "\n",
        "\n",
        "*   Drop entry ('Alaskan Malamute') because it is missing height and weight data\n",
        "\n"
      ],
      "metadata": {
        "id": "ySlyo19-XEi1"
      }
    },
    {
      "cell_type": "code",
      "source": [
        "dd.dropna(subset=['height_low_inches'], inplace=True)\n",
        "dd.reset_index(drop=True, inplace=True)"
      ],
      "metadata": {
        "id": "q7qP0aAF1J4P"
      },
      "execution_count": null,
      "outputs": []
    },
    {
      "cell_type": "markdown",
      "source": [
        "\n",
        "\n",
        "*   Convert height and weight columns to floats\n",
        "\n"
      ],
      "metadata": {
        "id": "-i3yBPxXXQ6p"
      }
    },
    {
      "cell_type": "code",
      "source": [
        "dd['height_low_inches'] = dd['height_low_inches'].astype(str).astype(float)\n",
        "dd['height_high_inches'] = dd['height_high_inches'].astype(str).astype(float)\n",
        "dd['weight_low_lbs'] = dd['weight_low_lbs'].astype(str).astype(float)\n",
        "dd['weight_high_lbs'] = dd['weight_high_lbs'].astype(str).astype(float)"
      ],
      "metadata": {
        "id": "xRHNIXk5XQps"
      },
      "execution_count": null,
      "outputs": []
    },
    {
      "cell_type": "markdown",
      "source": [
        "\n",
        "\n",
        "*   Remove '%' from the 'obey' column\n",
        "*   Convert 'obey' column to floats\n",
        "\n"
      ],
      "metadata": {
        "id": "VJhmEfEQXjJm"
      }
    },
    {
      "cell_type": "code",
      "source": [
        "# first remove the '%' character\n",
        "dd['obey'] = dd['obey'].str.replace('%', '')\n",
        "\n",
        "# then covert to float\n",
        "dd['obey'] = dd['obey'].astype(float)"
      ],
      "metadata": {
        "id": "H1LFjKFaRjz5"
      },
      "execution_count": null,
      "outputs": []
    },
    {
      "cell_type": "code",
      "source": [
        "# View information of the datafame to be used\n",
        "dd.info()"
      ],
      "metadata": {
        "id": "IveIWglP4AGW"
      },
      "execution_count": null,
      "outputs": []
    },
    {
      "cell_type": "code",
      "source": [
        "# locate the null entries in 'obey'\n",
        "dd[dd['obey'].isnull()]\n",
        "\n",
        "# **** what to do about the NaN ?????"
      ],
      "metadata": {
        "id": "-gy-GvR47V-4"
      },
      "execution_count": null,
      "outputs": []
    },
    {
      "cell_type": "markdown",
      "source": [
        "### **Adding Features**\n",
        "\n",
        "\n",
        "*   Average weight\n",
        "*   Average height\n",
        "*   Average reps\n",
        "*   Height to weight ratio\n",
        "\n",
        "\n",
        "\n"
      ],
      "metadata": {
        "id": "xyr3qYoWYy05"
      }
    },
    {
      "cell_type": "code",
      "source": [
        "dd['weight_avg'] = (dd['weight_high_lbs'] + dd['weight_low_lbs']) / 2\n",
        "dd['height_avg'] = (dd['height_high_inches'] + dd['height_low_inches']) / 2\n",
        "dd['reps_avg'] = (dd['reps_lower'] + dd['reps_upper']) / 2\n",
        "dd['height_to_weight'] = dd['height_avg'] / dd['weight_avg']"
      ],
      "metadata": {
        "id": "yYoPzYQbZI63"
      },
      "execution_count": null,
      "outputs": []
    },
    {
      "cell_type": "markdown",
      "source": [
        "\n",
        "\n",
        "---\n",
        "\n",
        "\n",
        "## **Data Exploration**"
      ],
      "metadata": {
        "id": "HpCVKgYzZ1i_"
      }
    },
    {
      "cell_type": "code",
      "source": [],
      "metadata": {
        "id": "zGFVRKkhZ5Wv"
      },
      "execution_count": null,
      "outputs": []
    }
  ]
}